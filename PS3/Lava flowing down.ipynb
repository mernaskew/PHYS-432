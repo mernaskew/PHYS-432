{
 "cells": [
  {
   "cell_type": "code",
   "execution_count": null,
   "id": "42a7c473",
   "metadata": {},
   "outputs": [
    {
     "name": "stdout",
     "output_type": "stream",
     "text": [
      "Using matplotlib backend: Qt5Agg\n"
     ]
    }
   ],
   "source": [
    "import numpy as np\n",
    "import matplotlib.pyplot as pl\n",
    "import scipy.linalg\n",
    "%matplotlib \n",
    "\n",
    "# set up grid and advection and diffusion parameters\n",
    "Ngrid = 500\n",
    "Nsteps = 500\n",
    "dt = 10/Nsteps\n",
    "dx = 1/Ngrid\n",
    "\n",
    "# gravitational contributions\n",
    "g = 9.81   # gravity term in m/s^2\n",
    "alpha = 10 # inclination of slope in degrees\n",
    "K = g*np.sin(np.deg2rad(alpha)) \n",
    "\n",
    "# viscosity contributions\n",
    "v = 1       # kinematic viscosity of lava (in m^2/s) as estimated in class\n",
    "rho = 2700  # density of basaltic lava (from wikipedia)\n",
    "\n",
    "# Initialize plot\n",
    "H = 1.0 # height of lava layer\n",
    "x = np.linspace(0, H, Ngrid, dtype = 'float')\n",
    "f1 = np.zeros(Ngrid)   # initial speed of the lava (at rest)\n",
    "\n",
    "pl.ion()\n",
    "fig, axes = pl.subplots(1,1)\n",
    "axes.set_title(\"Flow of Lava\")\n",
    "axes.set_ylabel(\"Speed of lava [m/s]\")\n",
    "axes.set_xlabel(\"Height of lava [m]\")\n",
    "\n",
    "# Steady state solution (as found in class)\n",
    "steady_state = -(g/v)*np.sin(np.deg2rad(alpha)) * (x**2/2 - H*x)\n",
    "\n",
    "# plotting steady state in the background for reference\n",
    "axes.plot(x, steady_state, 'k-', label='Steady State Solution')\n",
    "\n",
    "# velocity plot to be updated\n",
    "plt1, = axes.plot(x, f1, 'r-')\n",
    "\n",
    "# Setting the axis limits \n",
    "axes.set_xlim([0,H])\n",
    "pl.legend()\n",
    "pl.grid('On')\n",
    "\n",
    "# Calculate the tridiagonal matrix A in banded form\n",
    "beta = v*dt/dx**2 \n",
    "a = -beta * np.ones(Ngrid)\n",
    "b = (1 + 2*beta) * np.ones(Ngrid) # No slip BC\n",
    "c = -beta * np.ones(Ngrid)\n",
    "a[0] = 0.0 \n",
    "b[-1] = 1 + beta # Stress-free BC\n",
    "c[-1] = 0.0\n",
    "\n",
    "A = np.row_stack((a,b,c))\n",
    "\n",
    "#Evolution of velocity f1 updated at each timestep\n",
    "for i in range(1, Nsteps):\n",
    "    f1 = scipy.linalg.solve_banded((1,1), A, f1 + dt*K)\n",
    "    plt1.set_ydata(f1)\n",
    "    fig.canvas.draw()\n",
    "    pl.pause(0.001) \n",
    "\n",
    "pl.show()"
   ]
  },
  {
   "cell_type": "code",
   "execution_count": null,
   "id": "83cedad1",
   "metadata": {},
   "outputs": [],
   "source": []
  }
 ],
 "metadata": {
  "kernelspec": {
   "display_name": "Python 3",
   "language": "python",
   "name": "python3"
  },
  "language_info": {
   "codemirror_mode": {
    "name": "ipython",
    "version": 3
   },
   "file_extension": ".py",
   "mimetype": "text/x-python",
   "name": "python",
   "nbconvert_exporter": "python",
   "pygments_lexer": "ipython3",
   "version": "3.8.8"
  }
 },
 "nbformat": 4,
 "nbformat_minor": 5
}
